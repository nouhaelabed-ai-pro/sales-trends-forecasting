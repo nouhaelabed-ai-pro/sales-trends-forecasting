{
 "cells": [
  {
   "cell_type": "markdown",
   "metadata": {},
   "source": [
    "# Sales Trends Analysis\n",
    "\n",
    "This notebook focuses on exploring sales trends in the superstore dataset using various visualizations and analysis techniques."
   ]
  },
  {
   "cell_type": "code",
   "execution_count": null,
   "metadata": {},
   "source": [
    "# Import required libraries\n",
    "import pandas as pd\n",
    "import numpy as np\n",
    "import plotly.express as px\n",
    "import plotly.graph_objects as go\n",
    "from plotly.subplots import make_subplots"
   ]
  },
  {
   "cell_type": "code",
   "execution_count": null,
   "metadata": {},
   "source": [
    "# Load the cleaned dataset\n",
    "df = pd.read_csv('../data/cleaned_superstore_sales.csv')\n",
    "\n",
    "# Convert date columns to datetime with the correct format (DD/MM/YYYY)\n",
    "date_columns = ['Order Date', 'Ship Date']\n",
    "for col in date_columns:\n",
    "    if col in df.columns:\n",
    "        # Using format='mixed' with dayfirst=True to handle DD/MM/YYYY format\n",
    "        df[col] = pd.to_datetime(df[col], format='mixed', dayfirst=True)\n",
    "\n",
    "# Sort by Order Date\n",
    "df = df.sort_values('Order Date')\n",
    "\n",
    "print(\"Dataset loaded successfully!\")\n",
    "print(f\"Time period covered: {df['Order Date'].min()} to {df['Order Date'].max()}\")\n",
    "\n",
    "# Display a few rows to verify date conversion\n",
    "print(\"\\nSample of converted dates:\")\n",
    "print(df[['Order Date', 'Ship Date']].head())"
   ]
  },
  {
   "cell_type": "markdown",
   "metadata": {},
   "source": [
    "## 1. Time-based Sales Analysis"
   ]
  },
  {
   "cell_type": "code",
   "execution_count": null,
   "metadata": {},
   "source": [
    "# Monthly Sales Trend\n",
    "monthly_sales = df.groupby(pd.Grouper(key='Order Date', freq='M'))['Sales'].agg(['sum', 'count']).reset_index()\n",
    "monthly_sales.columns = ['Month', 'Total Sales', 'Number of Orders']\n",
    "\n",
    "# Create subplot with two y-axes\n",
    "fig = make_subplots(specs=[[{\"secondary_y\": True}]])\n",
    "\n",
    "# Add traces\n",
    "fig.add_trace(\n",
    "    go.Scatter(x=monthly_sales['Month'], y=monthly_sales['Total Sales'],\n",
    "               name=\"Total Sales\", line=dict(color='blue')),\n",
    "    secondary_y=False,\n",
    ")\n",
    "\n",
    "fig.add_trace(\n",
    "    go.Scatter(x=monthly_sales['Month'], y=monthly_sales['Number of Orders'],\n",
    "               name=\"Number of Orders\", line=dict(color='red')),\n",
    "    secondary_y=True,\n",
    ")\n",
    "\n",
    "fig.update_layout(\n",
    "    title='Monthly Sales Trend and Number of Orders',\n",
    "    xaxis_title='Month',\n",
    "    yaxis_title='Total Sales ($)',\n",
    "    yaxis2_title='Number of Orders'\n",
    ")\n",
    "\n",
    "fig.show()"
   ]
  },
  {
   "cell_type": "code",
   "execution_count": null,
   "metadata": {},
   "source": [
    "# Seasonal Analysis\n",
    "df['Month'] = df['Order Date'].dt.month\n",
    "df['Year'] = df['Order Date'].dt.year\n",
    "\n",
    "seasonal_sales = df.groupby(['Year', 'Month'])['Sales'].sum().reset_index()\n",
    "\n",
    "fig = px.line(seasonal_sales, x='Month', y='Sales', color='Year',\n",
    "              title='Monthly Sales Patterns by Year',\n",
    "              labels={'Month': 'Month', 'Sales': 'Total Sales ($)', 'Year': 'Year'})\n",
    "\n",
    "fig.show()"
   ]
  },
  {
   "cell_type": "markdown",
   "metadata": {},
   "source": [
    "## 2. Category and Product Analysis"
   ]
  },
  {
   "cell_type": "code",
   "execution_count": null,
   "metadata": {},
   "source": [
    "# Sales by Category\n",
    "category_sales = df.groupby('Category')['Sales'].agg(['sum', 'count']).reset_index()\n",
    "category_sales.columns = ['Category', 'Total Sales', 'Number of Orders']\n",
    "\n",
    "fig = px.bar(category_sales, x='Category', y=['Total Sales', 'Number of Orders'],\n",
    "             title='Sales and Orders by Category',\n",
    "             barmode='group')\n",
    "fig.show()\n",
    "\n",
    "# Top 10 Sub-Categories\n",
    "subcategory_sales = df.groupby('Sub-Category')['Sales'].sum().sort_values(ascending=False).head(10)\n",
    "\n",
    "fig = px.bar(subcategory_sales, x=subcategory_sales.index, y='Sales',\n",
    "             title='Top 10 Sub-Categories by Sales',\n",
    "             labels={'index': 'Sub-Category', 'Sales': 'Total Sales ($)'})\n",
    "fig.show()"
   ]
  },
  {
   "cell_type": "markdown",
   "metadata": {},
   "source": [
    "## 3. Regional Analysis"
   ]
  },
  {
   "cell_type": "code",
   "execution_count": null,
   "metadata": {},
   "source": [
    "# Sales by Region\n",
    "region_sales = df.groupby('Region')['Sales'].sum().reset_index()\n",
    "\n",
    "fig = px.pie(region_sales, values='Sales', names='Region',\n",
    "             title='Sales Distribution by Region')\n",
    "fig.show()\n",
    "\n",
    "# Top 10 States by Sales\n",
    "state_sales = df.groupby('State')['Sales'].sum().sort_values(ascending=False).head(10)\n",
    "\n",
    "fig = px.bar(state_sales, x=state_sales.index, y='Sales',\n",
    "             title='Top 10 States by Sales',\n",
    "             labels={'index': 'State', 'Sales': 'Total Sales ($)'})\n",
    "fig.show()"
   ]
  },
  {
   "cell_type": "markdown",
   "metadata": {},
   "source": [
    "## 4. Customer Segment Analysis"
   ]
  },
  {
   "cell_type": "code",
   "execution_count": null,
   "metadata": {},
   "source": [
    "# Sales by Customer Segment\n",
    "segment_sales = df.groupby('Segment')['Sales'].agg(['sum', 'count']).reset_index()\n",
    "segment_sales.columns = ['Segment', 'Total Sales', 'Number of Orders']\n",
    "\n",
    "# Create two subplots\n",
    "fig = make_subplots(rows=1, cols=2, specs=[[{\"type\": \"pie\"}, {\"type\": \"pie\"}]])\n",
    "\n",
    "fig.add_trace(\n",
    "    go.Pie(labels=segment_sales['Segment'], values=segment_sales['Total Sales'],\n",
    "           name=\"Total Sales\"),\n",
    "    row=1, col=1\n",
    ")\n",
    "\n",
    "fig.add_trace(\n",
    "    go.Pie(labels=segment_sales['Segment'], values=segment_sales['Number of Orders'],\n",
    "           name=\"Number of Orders\"),\n",
    "    row=1, col=2\n",
    ")\n",
    "\n",
    "fig.update_layout(\n",
    "    title='Sales and Orders Distribution by Customer Segment',\n",
    "    annotations=[\n",
    "        dict(text=\"Total Sales\", x=0.18, y=0.5, showarrow=False, font_size=13),\n",
    "        dict(text=\"Number of Orders\", x=0.82, y=0.5, showarrow=False, font_size=13)\n",
    "    ]\n",
    ")\n",
    "\n",
    "fig.show()"
   ]
  },
  {
   "cell_type": "markdown",
   "metadata": {},
   "source": [
    "## 5. Key Insights Summary"
   ]
  },
  {
   "cell_type": "code",
   "execution_count": null,
   "metadata": {},
   "source": [
    "# Calculate key metrics\n",
    "print(\"Key Sales Metrics:\")\n",
    "print(\"-\" * 50)\n",
    "\n",
    "# Total sales\n",
    "total_sales = df['Sales'].sum()\n",
    "print(f\"Total Sales: ${total_sales:,.2f}\")\n",
    "\n",
    "# Average order value\n",
    "avg_order = df['Sales'].mean()\n",
    "print(f\"Average Order Value: ${avg_order:.2f}\")\n",
    "\n",
    "# Best performing category\n",
    "best_category = df.groupby('Category')['Sales'].sum().idxmax()\n",
    "best_category_sales = df.groupby('Category')['Sales'].sum().max()\n",
    "print(f\"Best Performing Category: {best_category} (${best_category_sales:,.2f})\")\n",
    "\n",
    "# Best performing region\n",
    "best_region = df.groupby('Region')['Sales'].sum().idxmax()\n",
    "best_region_sales = df.groupby('Region')['Sales'].sum().max()\n",
    "print(f\"Best Performing Region: {best_region} (${best_region_sales:,.2f})\")\n",
    "\n",
    "# Most valuable customer segment\n",
    "best_segment = df.groupby('Segment')['Sales'].sum().idxmax()\n",
    "best_segment_sales = df.groupby('Segment')['Sales'].sum().max()\n",
    "print(f\"Most Valuable Customer Segment: {best_segment} (${best_segment_sales:,.2f})\")"
   ]
  }
 ],
 "metadata": {
  "kernelspec": {
   "display_name": "Python 3",
   "language": "python",
   "name": "python3"
  },
  "language_info": {
   "codemirror_mode": {
    "name": "ipython",
    "version": 3
   },
   "file_extension": ".py",
   "mimetype": "text/x-python",
   "name": "python",
   "nbconvert_exporter": "python",
   "pygments_lexer": "ipython3",
   "version": "3.8.0"
  }
 },
 "nbformat": 4,
 "nbformat_minor": 4
}
