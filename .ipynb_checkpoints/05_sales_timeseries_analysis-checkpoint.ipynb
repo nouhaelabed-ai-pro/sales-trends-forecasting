{
 "cells": [
  {
   "cell_type": "markdown",
   "metadata": {},
   "source": [
    "# Sales Time Series Analysis and Forecasting\n",
    "\n",
    "This notebook focuses on time series analysis of sales data using Facebook Prophet."
   ]
  },
  {
   "cell_type": "code",
   "execution_count": null,
   "metadata": {},
   "source": [
    "import pandas as pd\n",
    "import numpy as np\n",
    "from prophet import Prophet\n",
    "import matplotlib.pyplot as plt\n",
    "from datetime import datetime\n",
    "import seaborn as sns\n",
    "\n",
    "# Set style for better visualizations\n",
    "plt.style.use('seaborn')\n",
    "sns.set_palette(\"husl\")"
   ]
  },
  {
   "cell_type": "code",
   "execution_count": null,
   "metadata": {},
   "source": [
    "# Load the data\n",
    "df = pd.read_csv('data/cleaned_superstore_sales.csv')\n",
    "\n",
    "# Convert Order Date to datetime\n",
    "df['Order Date'] = pd.to_datetime(df['Order Date'])\n",
    "\n",
    "# Group by date and calculate daily sales\n",
    "daily_sales = df.groupby('Order Date')['Sales'].sum().reset_index()\n",
    "\n",
    "# Rename columns to match Prophet requirements\n",
    "daily_sales.columns = ['ds', 'y']\n",
    "\n",
    "# Display first few rows\n",
    "daily_sales.head()"
   ]
  },
  {
   "cell_type": "code",
   "execution_count": null,
   "metadata": {},
   "source": [
    "# Create and train the Prophet model\n",
    "model = Prophet(\n",
    "    yearly_seasonality=True,\n",
    "    weekly_seasonality=True,\n",
    "    daily_seasonality=False,\n",
    "    changepoint_prior_scale=0.05\n",
    ")\n",
    "\n",
    "model.fit(daily_sales)"
   ]
  },
  {
   "cell_type": "code",
   "execution_count": null,
   "metadata": {},
   "source": [
    "# Create future dates for forecasting (365 days into the future)\n",
    "future_dates = model.make_future_dataframe(periods=365)\n",
    "\n",
    "# Make predictions\n",
    "forecast = model.predict(future_dates)\n",
    "\n",
    "# Plot the forecast\n",
    "fig = model.plot(forecast)\n",
    "plt.title('Sales Forecast')\n",
    "plt.show()"
   ]
  },
  {
   "cell_type": "code",
   "execution_count": null,
   "metadata": {},
   "source": [
    "# Plot the components of the forecast\n",
    "fig = model.plot_components(forecast)\n",
    "plt.show()"
   ]
  },
  {
   "cell_type": "code",
   "execution_count": null,
   "metadata": {},
   "source": [
    "# Calculate and display some metrics\n",
    "from sklearn.metrics import mean_absolute_error, mean_squared_error\n",
    "import numpy as np\n",
    "\n",
    "# Get predictions for the training period\n",
    "train_predictions = forecast[forecast['ds'].isin(daily_sales['ds'])]['yhat']\n",
    "\n",
    "# Calculate metrics\n",
    "mae = mean_absolute_error(daily_sales['y'], train_predictions)\n",
    "rmse = np.sqrt(mean_squared_error(daily_sales['y'], train_predictions))\n",
    "mape = np.mean(np.abs((daily_sales['y'] - train_predictions) / daily_sales['y'])) * 100\n",
    "\n",
    "print(f'Mean Absolute Error: ${mae:.2f}')\n",
    "print(f'Root Mean Square Error: ${rmse:.2f}')\n",
    "print(f'Mean Absolute Percentage Error: {mape:.2f}%')"
   ]
  }
 ],
 "metadata": {
  "kernelspec": {
   "display_name": "Python 3",
   "language": "python",
   "name": "python3"
  },
  "language_info": {
   "codemirror_mode": {
    "name": "ipython",
    "version": 3
   },
   "file_extension": ".py",
   "mimetype": "text/x-python",
   "name": "python",
   "nbconvert_exporter": "python",
   "pygments_lexer": "ipython3",
   "version": "3.12.6"
  }
 },
 "nbformat": 4,
 "nbformat_minor": 4
}
