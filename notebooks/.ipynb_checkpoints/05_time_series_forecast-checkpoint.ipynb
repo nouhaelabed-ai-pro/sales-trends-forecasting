{
 "cells": [
  {
   "cell_type": "markdown",
   "metadata": {},
   "source": [
    "# Time Series Forecasting with Prophet\n",
    "\n",
    "This notebook implements time series forecasting using Facebook Prophet, with interactive visualizations using Plotly."
   ]
  },
  {
   "cell_type": "code",
   "execution_count": null,
   "metadata": {},
   "source": [
    "import pandas as pd\n",
    "import numpy as np\n",
    "from prophet import Prophet\n",
    "import plotly.express as px\n",
    "import plotly.graph_objects as go\n",
    "from datetime import datetime\n",
    "from sklearn.metrics import mean_absolute_error, mean_squared_error\n",
    "\n",
    "# Set random seed for reproducibility\n",
    "np.random.seed(42)"
   ]
  },
  {
   "cell_type": "markdown",
   "metadata": {},
   "source": [
    "## Load and Prepare Data"
   ]
  },
  {
   "cell_type": "code",
   "execution_count": null,
   "metadata": {},
   "source": [
    "# Load the cleaned data\n",
    "df = pd.read_csv('../cleaned_superstore_sales.csv')\n",
    "\n",
    "# Convert Order Date to datetime\n",
    "df['Order Date'] = pd.to_datetime(df['Order Date'])\n",
    "\n",
    "# Prepare daily sales data\n",
    "daily_sales = df.groupby('Order Date')['Sales'].sum().reset_index()\n",
    "\n",
    "# Rename columns to match Prophet requirements\n",
    "daily_sales.columns = ['ds', 'y']\n",
    "\n",
    "# Display the first few rows\n",
    "daily_sales.head()"
   ]
  },
  {
   "cell_type": "markdown",
   "metadata": {},
   "source": [
    "## Visualize Time Series Data"
   ]
  },
  {
   "cell_type": "code",
   "execution_count": null,
   "metadata": {},
   "source": [
    "# Create time series plot\n",
    "fig = px.line(daily_sales, x='ds', y='y', \n",
    "              title='Daily Sales Over Time',\n",
    "              labels={'ds': 'Date', 'y': 'Sales'},\n",
    "              template='plotly_white')\n",
    "\n",
    "fig.update_layout(\n",
    "    showlegend=False,\n",
    "    hovermode='x unified'\n",
    ")\n",
    "\n",
    "fig.show()"
   ]
  },
  {
   "cell_type": "markdown",
   "metadata": {},
   "source": [
    "## Train Prophet Model"
   ]
  },
  {
   "cell_type": "code",
   "execution_count": null,
   "metadata": {},
   "source": [
    "# Initialize and train Prophet model\n",
    "model = Prophet(\n",
    "    yearly_seasonality=True,\n",
    "    weekly_seasonality=True,\n",
    "    daily_seasonality=False,\n",
    "    changepoint_prior_scale=0.05\n",
    ")\n",
    "\n",
    "model.fit(daily_sales)"
   ]
  },
  {
   "cell_type": "markdown",
   "metadata": {},
   "source": [
    "## Make Future Predictions"
   ]
  },
  {
   "cell_type": "code",
   "execution_count": null,
   "metadata": {},
   "source": [
    "# Create future dates dataframe\n",
    "future_dates = model.make_future_dataframe(periods=90)  # Forecast next 90 days\n",
    "\n",
    "# Make predictions\n",
    "forecast = model.predict(future_dates)\n",
    "\n",
    "# Create interactive plot with actual vs predicted values\n",
    "fig = go.Figure()\n",
    "\n",
    "# Add actual values\n",
    "fig.add_trace(go.Scatter(\n",
    "    x=daily_sales['ds'],\n",
    "    y=daily_sales['y'],\n",
    "    name='Actual Sales',\n",
    "    mode='lines',\n",
    "    line=dict(color='blue')\n",
    "))\n",
    "\n",
    "# Add predicted values\n",
    "fig.add_trace(go.Scatter(\n",
    "    x=forecast['ds'],\n",
    "    y=forecast['yhat'],\n",
    "    name='Predicted Sales',\n",
    "    mode='lines',\n",
    "    line=dict(color='red')\n",
    "))\n",
    "\n",
    "# Add confidence interval\n",
    "fig.add_trace(go.Scatter(\n",
    "    x=forecast['ds'].tolist() + forecast['ds'].tolist()[::-1],\n",
    "    y=forecast['yhat_upper'].tolist() + forecast['yhat_lower'].tolist()[::-1],\n",
    "    fill='toself',\n",
    "    fillcolor='rgba(255,0,0,0.2)',\n",
    "    line=dict(color='rgba(255,255,255,0)'),\n",
    "    name='Confidence Interval'\n",
    "))\n",
    "\n",
    "fig.update_layout(\n",
    "    title='Sales Forecast with Prophet',\n",
    "    xaxis_title='Date',\n",
    "    yaxis_title='Sales',\n",
    "    template='plotly_white',\n",
    "    hovermode='x unified'\n",
    ")\n",
    "\n",
    "fig.show()"
   ]
  },
  {
   "cell_type": "markdown",
   "metadata": {},
   "source": [
    "## Analyze Components"
   ]
  },
  {
   "cell_type": "code",
   "execution_count": null,
   "metadata": {},
   "source": [
    "# Get the components of the forecast\n",
    "components = model.plot_components(forecast)\n",
    "\n",
    "# Create separate plots for each component using plotly\n",
    "components_dict = {\n",
    "    'Trend': forecast[['ds', 'trend']],\n",
    "    'Yearly': forecast[['ds', 'yearly']],\n",
    "    'Weekly': forecast[['ds', 'weekly']]\n",
    "}\n",
    "\n",
    "for component_name, data in components_dict.items():\n",
    "    fig = px.line(data, x='ds', y=data.columns[1],\n",
    "                  title=f'{component_name} Component',\n",
    "                  labels={'ds': 'Date', data.columns[1]: 'Effect'},\n",
    "                  template='plotly_white')\n",
    "    \n",
    "    fig.update_layout(showlegend=False)\n",
    "    fig.show()"
   ]
  },
  {
   "cell_type": "markdown",
   "metadata": {},
   "source": [
    "## Model Evaluation"
   ]
  },
  {
   "cell_type": "code",
   "execution_count": null,
   "metadata": {},
   "source": [
    "# Calculate error metrics\n",
    "y_true = daily_sales['y'].values\n",
    "y_pred = forecast[:len(y_true)]['yhat'].values\n",
    "\n",
    "mae = mean_absolute_error(y_true, y_pred)\n",
    "rmse = np.sqrt(mean_squared_error(y_true, y_pred))\n",
    "mape = np.mean(np.abs((y_true - y_pred) / y_true)) * 100\n",
    "\n",
    "print(f'Mean Absolute Error: ${mae:.2f}')\n",
    "print(f'Root Mean Square Error: ${rmse:.2f}')\n",
    "print(f'Mean Absolute Percentage Error: {mape:.2f}%')\n",
    "\n",
    "# Create residuals plot\n",
    "residuals = y_true - y_pred\n",
    "fig = px.scatter(x=y_pred, y=residuals,\n",
    "                title='Residuals Plot',\n",
    "                labels={'x': 'Predicted Values', 'y': 'Residuals'},\n",
    "                template='plotly_white')\n",
    "\n",
    "fig.add_hline(y=0, line_dash='dash', line_color='red')\n",
    "fig.show()"
   ]
  }
 ],
 "metadata": {
  "kernelspec": {
   "display_name": "Python 3",
   "language": "python",
   "name": "python3"
  },
  "language_info": {
   "codemirror_mode": {
    "name": "ipython",
    "version": 3
   },
   "file_extension": ".ipynb",
   "mimetype": "text/x-python",
   "name": "python",
   "nbconvert_exporter": "python",
   "pygments_lexer": "ipython3",
   "version": "3.12.6"
  }
 },
 "nbformat": 4,
 "nbformat_minor": 4
}
