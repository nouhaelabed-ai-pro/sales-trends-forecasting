{
 "cells": [
  {
   "cell_type": "markdown",
   "metadata": {},
   "source": [
    "# Sales Trends Forecasting - Exploratory Data Analysis\n",
    "\n",
    "This notebook contains the exploratory data analysis of our sales dataset. We'll:\n",
    "1. Load and examine the data\n",
    "2. Handle missing values\n",
    "3. Clean the dataset\n",
    "4. Perform basic statistical analysis\n",
    "5. Create visualizations to understand patterns"
   ]
  },
  {
   "cell_type": "code",
   "execution_count": null,
   "metadata": {},
   "source": [
    "# Import necessary libraries\n",
    "import pandas as pd\n",
    "import numpy as np\n",
    "import matplotlib.pyplot as plt\n",
    "import seaborn as sns\n",
    "from datetime import datetime\n",
    "\n",
    "# Set display options\n",
    "pd.set_option('display.max_columns', None)\n",
    "pd.set_option('display.max_rows', 100)\n",
    "\n",
    "# Set style for visualizations\n",
    "plt.style.use('seaborn')\n",
    "sns.set_palette('husl')"
   ]
  },
  {
   "cell_type": "code",
   "execution_count": null,
   "metadata": {},
   "source": [
    "# Load the dataset\n",
    "df = pd.read_csv('../data/sales_data.csv')\n",
    "\n",
    "# Display basic information about the dataset\n",
    "print(\"Dataset Shape:\", df.shape)\n",
    "print(\"\\nDataset Info:\")\n",
    "df.info()\n",
    "print(\"\\nFirst few rows:\")\n",
    "df.head()"
   ]
  },
  {
   "cell_type": "markdown",
   "metadata": {},
   "source": [
    "## Data Cleaning"
   ]
  },
  {
   "cell_type": "code",
   "execution_count": null,
   "metadata": {},
   "source": [
    "# Check for missing values\n",
    "print(\"Missing values in each column:\")\n",
    "print(df.isnull().sum())\n",
    "\n",
    "# Check for duplicates\n",
    "print(\"\\nNumber of duplicate rows:\", df.duplicated().sum())"
   ]
  },
  {
   "cell_type": "code",
   "execution_count": null,
   "metadata": {},
   "source": [
    "# Basic statistics of numerical columns\n",
    "print(\"Statistical Summary:\")\n",
    "df.describe()"
   ]
  },
  {
   "cell_type": "code",
   "execution_count": null,
   "metadata": {},
   "source": [
    "def clean_dataset(df):\n",
    "    \"\"\"Clean the dataset by handling missing values, duplicates, and data type conversions\"\"\"\n",
    "    # Create a copy of the dataframe\n",
    "    df_clean = df.copy()\n",
    "    \n",
    "    # Remove duplicates\n",
    "    df_clean = df_clean.drop_duplicates()\n",
    "    \n",
    "    # Handle missing values (customize based on actual data)\n",
    "    numeric_columns = df_clean.select_dtypes(include=['float64', 'int64']).columns\n",
    "    for col in numeric_columns:\n",
    "        df_clean[col] = df_clean[col].fillna(df_clean[col].median())\n",
    "    \n",
    "    # Fill categorical missing values with mode\n",
    "    categorical_columns = df_clean.select_dtypes(include=['object']).columns\n",
    "    for col in categorical_columns:\n",
    "        df_clean[col] = df_clean[col].fillna(df_clean[col].mode()[0])\n",
    "    \n",
    "    return df_clean\n",
    "\n",
    "# Clean the dataset\n",
    "df_clean = clean_dataset(df)\n",
    "\n",
    "# Verify cleaning results\n",
    "print(\"Missing values after cleaning:\")\n",
    "print(df_clean.isnull().sum())"
   ]
  },
  {
   "cell_type": "markdown",
   "metadata": {},
   "source": [
    "## Data Visualization"
   ]
  },
  {
   "cell_type": "code",
   "execution_count": null,
   "metadata": {},
   "source": [
    "# Create visualizations for numerical columns\n",
    "numeric_cols = df_clean.select_dtypes(include=['float64', 'int64']).columns\n",
    "\n",
    "# Distribution plots\n",
    "plt.figure(figsize=(15, 5*len(numeric_cols)))\n",
    "for i, col in enumerate(numeric_cols, 1):\n",
    "    plt.subplot(len(numeric_cols), 2, 2*i-1)\n",
    "    sns.histplot(data=df_clean, x=col, kde=True)\n",
    "    plt.title(f'Distribution of {col}')\n",
    "    \n",
    "    plt.subplot(len(numeric_cols), 2, 2*i)\n",
    "    sns.boxplot(data=df_clean, x=col)\n",
    "    plt.title(f'Boxplot of {col}')\n",
    "\n",
    "plt.tight_layout()\n",
    "plt.show()"
   ]
  },
  {
   "cell_type": "code",
   "execution_count": null,
   "metadata": {},
   "source": [
    "# Correlation analysis\n",
    "plt.figure(figsize=(10, 8))\n",
    "correlation_matrix = df_clean[numeric_cols].corr()\n",
    "sns.heatmap(correlation_matrix, annot=True, cmap='coolwarm', center=0)\n",
    "plt.title('Correlation Matrix')\n",
    "plt.show()"
   ]
  },
  {
   "cell_type": "code",
   "execution_count": null,
   "metadata": {},
   "source": [
    "# Save the cleaned dataset\n",
    "df_clean.to_csv('../data/sales_data_cleaned.csv', index=False)\n",
    "print(\"Cleaned dataset has been saved to '../data/sales_data_cleaned.csv'\")"
   ]
  }
 ],
 "metadata": {
  "kernelspec": {
   "display_name": "Python 3",
   "language": "python",
   "name": "python3"
  },
  "language_info": {
   "codemirror_mode": {
    "name": "ipython",
    "version": 3
   },
   "file_extension": ".py",
   "mimetype": "text/x-python",
   "name": "python",
   "nbconvert_exporter": "python",
   "pygments_lexer": "ipython3",
   "version": "3.8.0"
  }
 },
 "nbformat": 4,
 "nbformat_minor": 4
}
